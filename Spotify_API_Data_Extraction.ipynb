{
 "cells": [
  {
   "cell_type": "markdown",
   "metadata": {
    "id": "gcmSGigHpF_a",
    "nbgrader": {
     "cell_type": "markdown",
     "checksum": "948e5e55ecc7c675b58a4699b22ffb32",
     "grade": false,
     "grade_id": "cell-aad0d9693d861220",
     "locked": true,
     "schema_version": 3,
     "solution": false,
     "task": false
    }
   },
   "source": [
    "# Spotify API\n",
    "\n",
    "Goal of the assignment: create and save a dataset containing information about every song in a given playlist by requesting data from Spotify's API. You will then use this dataset during the Artifical Intelligence I course to train a predictive model."
   ]
  },
  {
   "cell_type": "markdown",
   "metadata": {
    "id": "geAFIP3spGAD",
    "nbgrader": {
     "cell_type": "markdown",
     "checksum": "67e517c57172e438b2bd933a9c21c699",
     "grade": false,
     "grade_id": "cell-e0139011318f6903",
     "locked": true,
     "schema_version": 3,
     "solution": false,
     "task": false
    }
   },
   "source": [
    "## Getting client credentials\n",
    "\n",
    "Spotify's API uses OAuth as an Authentication scheme. Hence, before starting to make requests, we need to get client credentials to the Spotify API. For this, we need to have a Spotify account and then, \"Create an app\". Once the app has been created, we an see a “Client ID” and “Client Secret” on the left-hand side. These numbers correspond to our client credentials."
   ]
  },
  {
   "cell_type": "markdown",
   "metadata": {
    "id": "IMt1DyWipGAE",
    "nbgrader": {
     "cell_type": "markdown",
     "checksum": "bbf7d5be575cd9dc92535a1ebf3673b3",
     "grade": false,
     "grade_id": "cell-4655de3fb67ffa5",
     "locked": true,
     "schema_version": 3,
     "solution": false,
     "task": false
    }
   },
   "source": [
    "The following variables, <i>client_id</i> and <i>client_secret</i>, store your ID and Key, respectively"
   ]
  },
  {
   "cell_type": "code",
   "execution_count": 80,
   "metadata": {
    "deletable": false,
    "id": "g0lLr-l7pGAG",
    "nbgrader": {
     "cell_type": "code",
     "checksum": "002e5d6fec736f1215649284607d65a2",
     "grade": false,
     "grade_id": "cell-a8f99e4278237a63",
     "locked": false,
     "schema_version": 3,
     "solution": true,
     "task": false
    }
   },
   "outputs": [],
   "source": [
    "client_id= \"901214bb5c8f4d7f8c9f353d0e69d912\"\n",
    "client_secret=\"ec5aa5b8630044dbacbc4b2c0fcd9be1\""
   ]
  },
  {
   "cell_type": "markdown",
   "metadata": {
    "id": "t_5bC2ZPpGA3",
    "nbgrader": {
     "cell_type": "markdown",
     "checksum": "9641a46130bdcda7c26cdffbab7be511",
     "grade": false,
     "grade_id": "cell-64dcea57f1ef17bb",
     "locked": true,
     "schema_version": 3,
     "solution": false,
     "task": false
    }
   },
   "source": [
    "## Getting an access token\n",
    "\n",
    "To access the various endpoints of the Spotify API, we need to pass an access token. Therefore, we need to pass a ```POST``` request with our client credentials. This request creates a token resource in the server and respond back with it."
   ]
  },
  {
   "cell_type": "code",
   "execution_count": 81,
   "metadata": {
    "id": "c7Jc_0pYpGA5"
   },
   "outputs": [],
   "source": [
    "import requests\n",
    "\n",
    "# URL for token resource\n",
    "auth_url = 'https://accounts.spotify.com/api/token'\n",
    "\n",
    "# request body\n",
    "params = {'grant_type': 'client_credentials',\n",
    "          'client_id': client_id,\n",
    "          'client_secret': client_secret}\n",
    "\n",
    "# POST the request\n",
    "auth_response = requests.post(auth_url, params)"
   ]
  },
  {
   "cell_type": "code",
   "execution_count": 82,
   "metadata": {
    "id": "CdVxy_h3pGB3"
   },
   "outputs": [],
   "source": [
    "# convert the response to JSON\n",
    "auth_response_data = auth_response.json()\n",
    "\n",
    "# save the access token to a new variable\n",
    "access_token = auth_response_data['access_token']"
   ]
  },
  {
   "cell_type": "markdown",
   "metadata": {
    "id": "GTbMIOaEpGCW",
    "nbgrader": {
     "cell_type": "markdown",
     "checksum": "3455e25d7c7118932e7794cfab279813",
     "grade": false,
     "grade_id": "cell-d5a8d2ff0308a4e1",
     "locked": true,
     "schema_version": 3,
     "solution": false,
     "task": false
    }
   },
   "source": [
    "## Accessing the API\n",
    "\n",
    "The API provides numerous endpoints to access things like album listings, artist information, playlists, even Spotify-generated audio analysis of individual tracks, which include their time signature or measurements such as their “danceability” or \"loudness\". All the information is available by reading the [Docs](https://developer.spotify.com/documentation/web-api/reference/).\n",
    "\n",
    "Spotify's API expects us to include our access token in the requests header using a specific header called 'Authorization' for this purpose."
   ]
  },
  {
   "cell_type": "code",
   "execution_count": 84,
   "metadata": {
    "id": "c3WUNvWdpGCZ"
   },
   "outputs": [],
   "source": [
    "headers = {\n",
    "    'Authorization': 'Bearer {token}'.format(token=access_token)\n",
    "}"
   ]
  },
  {
   "cell_type": "markdown",
   "metadata": {
    "id": "VWZ4huaHpGCr"
   },
   "source": [
    "In order to get a feel of how the API works, we begin by making a ```GET``` requests to the ```audio-features``` endpoint to extract data for a specific track. For instance, let's retrieve all the information for Radiohead's **Creep**. \n",
    "\n",
    "The first thing you need is to identify the appropriate URL or path to direct your request to. The urls for all Spotify API endpoints follow the same structure, they use the base URL for the API and are then defined as a concatenication of ```base_url + endpoint```.\n",
    "\n",
    "The ```base_url``` is defined below:"
   ]
  },
  {
   "cell_type": "code",
   "execution_count": 85,
   "metadata": {
    "id": "PR4swV8cpGCz"
   },
   "outputs": [],
   "source": [
    "base_url = 'https://api.spotify.com/v1/'"
   ]
  },
  {
   "cell_type": "markdown",
   "metadata": {
    "id": "FgdxCYUQpGC-"
   },
   "source": [
    "And the endpoint for this case is defined as:"
   ]
  },
  {
   "cell_type": "code",
   "execution_count": 86,
   "metadata": {
    "id": "kcrkDIqTpGDH"
   },
   "outputs": [],
   "source": [
    "endpoint = 'audio-features'"
   ]
  },
  {
   "cell_type": "code",
   "execution_count": 87,
   "metadata": {
    "id": "GmA1BRlYpGDs"
   },
   "outputs": [],
   "source": [
    "url = base_url + endpoint"
   ]
  },
  {
   "cell_type": "markdown",
   "metadata": {
    "id": "S7jopFS_pGD5",
    "nbgrader": {
     "cell_type": "markdown",
     "checksum": "b8585acee00c0e6d3384267c83a8eda1",
     "grade": false,
     "grade_id": "cell-abc5bc0d1f57c982",
     "locked": true,
     "schema_version": 3,
     "solution": false,
     "task": false
    }
   },
   "source": [
    "Checking the documentation we see that the ```audio-features``` endpoint takes the following query parameters.\n",
    "\n",
    "<img src=\"https://www.dropbox.com/s/s4zs6wlue0u16cu/body.png?raw=1\" width=\"500\">\n",
    "\n",
    "To extract data about Radiohead's Creep song, we need to locate its ```id```. This is its unique identifier.\n",
    "\n",
    "![Creep](https://www.dropbox.com/s/kufj6ww2yn069gb/creep.png?raw=1)\n",
    "\n",
    "We can get the ```id``` for any song by going to Spotify, looking for the song, clicking the “…” by the song name, then “Share” and then “Copy Spotify URI”. \n",
    "\n",
    "<i>track_id</i> stores the ID for Radiohead's song Creep."
   ]
  },
  {
   "cell_type": "code",
   "execution_count": 88,
   "metadata": {
    "deletable": false,
    "id": "v2qe8ZNNpGD5",
    "nbgrader": {
     "cell_type": "code",
     "checksum": "17853b0c737595e9f79ec9eac375a290",
     "grade": false,
     "grade_id": "cell-a82a3e3a0e9e9b53",
     "locked": false,
     "schema_version": 3,
     "solution": true,
     "task": false
    }
   },
   "outputs": [],
   "source": [
    "track_id=\"6b2oQwSGFkzsMtQruIWm2p\""
   ]
  },
  {
   "cell_type": "markdown",
   "metadata": {
    "id": "88TYWKNapGD9"
   },
   "source": [
    "We need to provide the body in dictionary form using a variable called *params*."
   ]
  },
  {
   "cell_type": "code",
   "execution_count": 89,
   "metadata": {
    "id": "-ff-KRI3pGD-"
   },
   "outputs": [],
   "source": [
    "params = {'ids': [track_id]}"
   ]
  },
  {
   "cell_type": "markdown",
   "metadata": {
    "id": "2jR-vicHpGEw",
    "nbgrader": {
     "cell_type": "markdown",
     "checksum": "40826b946b3026f0d7dd4d49683998ce",
     "grade": false,
     "grade_id": "cell-2316de9d4e91bc6f",
     "locked": true,
     "schema_version": 3,
     "solution": false,
     "task": false
    }
   },
   "source": [
    "Running the GET request to retrieve the data for the \"Creep\" song. Storing the response in a new variable called <i>creep</i>"
   ]
  },
  {
   "cell_type": "code",
   "execution_count": 90,
   "metadata": {
    "colab": {
     "base_uri": "https://localhost:8080/"
    },
    "deletable": false,
    "id": "bws65uQ-pGEy",
    "nbgrader": {
     "cell_type": "code",
     "checksum": "c0caab5d16c0613a1003a67105f7af2c",
     "grade": false,
     "grade_id": "cell-6374d923d8f04079",
     "locked": false,
     "schema_version": 3,
     "solution": true,
     "task": false
    },
    "outputId": "4e90db74-2e65-42f0-fae5-53e524f3d472"
   },
   "outputs": [
    {
     "data": {
      "text/plain": [
       "<Response [200]>"
      ]
     },
     "execution_count": 90,
     "metadata": {
      "tags": []
     },
     "output_type": "execute_result"
    }
   ],
   "source": [
    "creep=requests.get(url, params=params, headers=headers)\n",
    "creep"
   ]
  },
  {
   "cell_type": "markdown",
   "metadata": {
    "id": "V7Z32bR9pGE7",
    "nbgrader": {
     "cell_type": "markdown",
     "checksum": "418bbf591576f5b610fdef26986fd71b",
     "grade": false,
     "grade_id": "cell-4f3168388630bf38",
     "locked": true,
     "schema_version": 3,
     "solution": false,
     "task": false
    }
   },
   "source": [
    "Converting the response to JSON format to be able to manipulate it with greater ease."
   ]
  },
  {
   "cell_type": "code",
   "execution_count": 91,
   "metadata": {
    "colab": {
     "base_uri": "https://localhost:8080/"
    },
    "deletable": false,
    "id": "zATjrVrjpGE8",
    "nbgrader": {
     "cell_type": "code",
     "checksum": "16d259aee458fc0d2ae92ef0bf7826a3",
     "grade": false,
     "grade_id": "cell-bd0fefdcec9a3eea",
     "locked": false,
     "schema_version": 3,
     "solution": true,
     "task": false
    },
    "outputId": "9df045b3-a7dd-4f3e-bc22-3f8a7546e2f2"
   },
   "outputs": [
    {
     "data": {
      "text/plain": [
       "{'audio_features': [{'acousticness': 0.0102,\n",
       "   'analysis_url': 'https://api.spotify.com/v1/audio-analysis/6b2oQwSGFkzsMtQruIWm2p',\n",
       "   'danceability': 0.515,\n",
       "   'duration_ms': 238640,\n",
       "   'energy': 0.43,\n",
       "   'id': '6b2oQwSGFkzsMtQruIWm2p',\n",
       "   'instrumentalness': 0.000141,\n",
       "   'key': 7,\n",
       "   'liveness': 0.129,\n",
       "   'loudness': -9.935,\n",
       "   'mode': 1,\n",
       "   'speechiness': 0.0369,\n",
       "   'tempo': 91.841,\n",
       "   'time_signature': 4,\n",
       "   'track_href': 'https://api.spotify.com/v1/tracks/6b2oQwSGFkzsMtQruIWm2p',\n",
       "   'type': 'audio_features',\n",
       "   'uri': 'spotify:track:6b2oQwSGFkzsMtQruIWm2p',\n",
       "   'valence': 0.104}]}"
      ]
     },
     "execution_count": 91,
     "metadata": {
      "tags": []
     },
     "output_type": "execute_result"
    }
   ],
   "source": [
    "creep=creep.json()\n",
    "creep"
   ]
  },
  {
   "cell_type": "code",
   "execution_count": 92,
   "metadata": {
    "colab": {
     "base_uri": "https://localhost:8080/"
    },
    "id": "MWoJUtLlGZ4A",
    "outputId": "a1898570-0abf-4555-84cd-6c903dad4533"
   },
   "outputs": [
    {
     "data": {
      "text/plain": [
       "0.515"
      ]
     },
     "execution_count": 92,
     "metadata": {
      "tags": []
     },
     "output_type": "execute_result"
    }
   ],
   "source": [
    "creep[\"audio_features\"][0][\"danceability\"]"
   ]
  },
  {
   "cell_type": "markdown",
   "metadata": {
    "id": "CTDUfuiIpGFN",
    "nbgrader": {
     "cell_type": "markdown",
     "checksum": "7b5965575b09caeb7cc7365e0a959688",
     "grade": false,
     "grade_id": "cell-3790f150aa3bd111",
     "locked": true,
     "schema_version": 3,
     "solution": false,
     "task": false
    }
   },
   "source": [
    "## Getting data from a playlist\n",
    "\n",
    "Here, we build a dataset containing data about different songs. We used the playlist proposed by the proffessor for this purpose. This is the [link](https://open.spotify.com/playlist/4NVeFUEHBybfh3ITNG1b8n?si=js9BKt5aTOiCWMm_Cx4Vvg) to the playlist.\n",
    "\n",
    "<i>playlist_id</i> storing the id of your playlist of choice."
   ]
  },
  {
   "cell_type": "code",
   "execution_count": 94,
   "metadata": {
    "deletable": false,
    "id": "eV3ADfR_pGFO",
    "nbgrader": {
     "cell_type": "code",
     "checksum": "c53c30ea0d85821b92a3e57e840cf4d8",
     "grade": false,
     "grade_id": "cell-ebb88e4537ea519b",
     "locked": false,
     "schema_version": 3,
     "solution": true,
     "task": false
    }
   },
   "outputs": [],
   "source": [
    "playlist_id=\"4NVeFUEHBybfh3ITNG1b8n\""
   ]
  },
  {
   "cell_type": "markdown",
   "metadata": {
    "id": "04jHEKi2pGFR",
    "nbgrader": {
     "cell_type": "markdown",
     "checksum": "6c29df99b2b682c3b9c13d4e09a889a5",
     "grade": false,
     "grade_id": "cell-a618363337ae0889",
     "locked": true,
     "schema_version": 3,
     "solution": false,
     "task": false
    }
   },
   "source": [
    "Retrieving all the information about the chosen playlist in JSON form. Storing the response in a variable called <i>playlist</i>."
   ]
  },
  {
   "cell_type": "code",
   "execution_count": 95,
   "metadata": {
    "deletable": false,
    "id": "Dluuec9rpGFS",
    "nbgrader": {
     "cell_type": "code",
     "checksum": "e51c24b23211de5ba30f90cf0720dfec",
     "grade": false,
     "grade_id": "cell-e54d8db96e712bd8",
     "locked": false,
     "schema_version": 3,
     "solution": true,
     "task": false
    }
   },
   "outputs": [],
   "source": [
    "url= base_url+\"playlists/\"+playlist_id+\"/tracks\"\n",
    "playlist=requests.get(url, headers=headers).json()"
   ]
  },
  {
   "cell_type": "code",
   "execution_count": 96,
   "metadata": {
    "colab": {
     "base_uri": "https://localhost:8080/"
    },
    "id": "ArQypJi_IKzs",
    "outputId": "a0e525b9-22d1-4962-b14b-5b47ab1fc33b"
   },
   "outputs": [
    {
     "data": {
      "text/plain": [
       "dict_keys(['href', 'items', 'limit', 'next', 'offset', 'previous', 'total'])"
      ]
     },
     "execution_count": 96,
     "metadata": {
      "tags": []
     },
     "output_type": "execute_result"
    }
   ],
   "source": [
    "playlist.keys()"
   ]
  },
  {
   "cell_type": "code",
   "execution_count": 97,
   "metadata": {
    "colab": {
     "base_uri": "https://localhost:8080/"
    },
    "id": "UaU47HpVJ-kc",
    "outputId": "bb0b7da0-356c-46af-e5dc-b27a307fb25d"
   },
   "outputs": [
    {
     "data": {
      "text/plain": [
       "{'added_at': '2020-10-11T08:39:57Z',\n",
       " 'added_by': {'external_urls': {'spotify': 'https://open.spotify.com/user/niakha'},\n",
       "  'href': 'https://api.spotify.com/v1/users/niakha',\n",
       "  'id': 'niakha',\n",
       "  'type': 'user',\n",
       "  'uri': 'spotify:user:niakha'},\n",
       " 'is_local': False,\n",
       " 'primary_color': None,\n",
       " 'track': {'album': {'album_type': 'album',\n",
       "   'artists': [{'external_urls': {'spotify': 'https://open.spotify.com/artist/4Z8W4fKeB5YxbusRsdQVPb'},\n",
       "     'href': 'https://api.spotify.com/v1/artists/4Z8W4fKeB5YxbusRsdQVPb',\n",
       "     'id': '4Z8W4fKeB5YxbusRsdQVPb',\n",
       "     'name': 'Radiohead',\n",
       "     'type': 'artist',\n",
       "     'uri': 'spotify:artist:4Z8W4fKeB5YxbusRsdQVPb'}],\n",
       "   'available_markets': ['AD',\n",
       "    'AE',\n",
       "    'AL',\n",
       "    'AR',\n",
       "    'AT',\n",
       "    'AU',\n",
       "    'BA',\n",
       "    'BE',\n",
       "    'BG',\n",
       "    'BH',\n",
       "    'BO',\n",
       "    'BR',\n",
       "    'BY',\n",
       "    'CA',\n",
       "    'CH',\n",
       "    'CL',\n",
       "    'CO',\n",
       "    'CR',\n",
       "    'CY',\n",
       "    'CZ',\n",
       "    'DE',\n",
       "    'DK',\n",
       "    'DO',\n",
       "    'DZ',\n",
       "    'EC',\n",
       "    'EE',\n",
       "    'EG',\n",
       "    'ES',\n",
       "    'FI',\n",
       "    'FR',\n",
       "    'GB',\n",
       "    'GR',\n",
       "    'GT',\n",
       "    'HK',\n",
       "    'HN',\n",
       "    'HR',\n",
       "    'HU',\n",
       "    'ID',\n",
       "    'IE',\n",
       "    'IL',\n",
       "    'IN',\n",
       "    'IS',\n",
       "    'IT',\n",
       "    'JO',\n",
       "    'JP',\n",
       "    'KW',\n",
       "    'KZ',\n",
       "    'LB',\n",
       "    'LI',\n",
       "    'LT',\n",
       "    'LU',\n",
       "    'LV',\n",
       "    'MA',\n",
       "    'MC',\n",
       "    'MD',\n",
       "    'ME',\n",
       "    'MK',\n",
       "    'MT',\n",
       "    'MX',\n",
       "    'MY',\n",
       "    'NI',\n",
       "    'NL',\n",
       "    'NO',\n",
       "    'NZ',\n",
       "    'OM',\n",
       "    'PA',\n",
       "    'PE',\n",
       "    'PH',\n",
       "    'PL',\n",
       "    'PS',\n",
       "    'PT',\n",
       "    'PY',\n",
       "    'QA',\n",
       "    'RO',\n",
       "    'RS',\n",
       "    'RU',\n",
       "    'SA',\n",
       "    'SE',\n",
       "    'SG',\n",
       "    'SI',\n",
       "    'SK',\n",
       "    'SV',\n",
       "    'TH',\n",
       "    'TN',\n",
       "    'TR',\n",
       "    'TW',\n",
       "    'UA',\n",
       "    'US',\n",
       "    'UY',\n",
       "    'VN',\n",
       "    'XK',\n",
       "    'ZA'],\n",
       "   'external_urls': {'spotify': 'https://open.spotify.com/album/6400dnyeDyD2mIFHfkwHXN'},\n",
       "   'href': 'https://api.spotify.com/v1/albums/6400dnyeDyD2mIFHfkwHXN',\n",
       "   'id': '6400dnyeDyD2mIFHfkwHXN',\n",
       "   'images': [{'height': 640,\n",
       "     'url': 'https://i.scdn.co/image/ab67616d0000b2732f85b65d3ac4d3d7f806ca11',\n",
       "     'width': 640},\n",
       "    {'height': 300,\n",
       "     'url': 'https://i.scdn.co/image/ab67616d00001e022f85b65d3ac4d3d7f806ca11',\n",
       "     'width': 300},\n",
       "    {'height': 64,\n",
       "     'url': 'https://i.scdn.co/image/ab67616d000048512f85b65d3ac4d3d7f806ca11',\n",
       "     'width': 64}],\n",
       "   'name': 'Pablo Honey',\n",
       "   'release_date': '1993-02-22',\n",
       "   'release_date_precision': 'day',\n",
       "   'total_tracks': 12,\n",
       "   'type': 'album',\n",
       "   'uri': 'spotify:album:6400dnyeDyD2mIFHfkwHXN'},\n",
       "  'artists': [{'external_urls': {'spotify': 'https://open.spotify.com/artist/4Z8W4fKeB5YxbusRsdQVPb'},\n",
       "    'href': 'https://api.spotify.com/v1/artists/4Z8W4fKeB5YxbusRsdQVPb',\n",
       "    'id': '4Z8W4fKeB5YxbusRsdQVPb',\n",
       "    'name': 'Radiohead',\n",
       "    'type': 'artist',\n",
       "    'uri': 'spotify:artist:4Z8W4fKeB5YxbusRsdQVPb'}],\n",
       "  'available_markets': ['AD',\n",
       "   'AE',\n",
       "   'AL',\n",
       "   'AR',\n",
       "   'AT',\n",
       "   'AU',\n",
       "   'BA',\n",
       "   'BE',\n",
       "   'BG',\n",
       "   'BH',\n",
       "   'BO',\n",
       "   'BR',\n",
       "   'BY',\n",
       "   'CA',\n",
       "   'CH',\n",
       "   'CL',\n",
       "   'CO',\n",
       "   'CR',\n",
       "   'CY',\n",
       "   'CZ',\n",
       "   'DE',\n",
       "   'DK',\n",
       "   'DO',\n",
       "   'DZ',\n",
       "   'EC',\n",
       "   'EE',\n",
       "   'EG',\n",
       "   'ES',\n",
       "   'FI',\n",
       "   'FR',\n",
       "   'GB',\n",
       "   'GR',\n",
       "   'GT',\n",
       "   'HK',\n",
       "   'HN',\n",
       "   'HR',\n",
       "   'HU',\n",
       "   'ID',\n",
       "   'IE',\n",
       "   'IL',\n",
       "   'IN',\n",
       "   'IS',\n",
       "   'IT',\n",
       "   'JO',\n",
       "   'JP',\n",
       "   'KW',\n",
       "   'KZ',\n",
       "   'LB',\n",
       "   'LI',\n",
       "   'LT',\n",
       "   'LU',\n",
       "   'LV',\n",
       "   'MA',\n",
       "   'MC',\n",
       "   'MD',\n",
       "   'ME',\n",
       "   'MK',\n",
       "   'MT',\n",
       "   'MX',\n",
       "   'MY',\n",
       "   'NI',\n",
       "   'NL',\n",
       "   'NO',\n",
       "   'NZ',\n",
       "   'OM',\n",
       "   'PA',\n",
       "   'PE',\n",
       "   'PH',\n",
       "   'PL',\n",
       "   'PS',\n",
       "   'PT',\n",
       "   'PY',\n",
       "   'QA',\n",
       "   'RO',\n",
       "   'RS',\n",
       "   'RU',\n",
       "   'SA',\n",
       "   'SE',\n",
       "   'SG',\n",
       "   'SI',\n",
       "   'SK',\n",
       "   'SV',\n",
       "   'TH',\n",
       "   'TN',\n",
       "   'TR',\n",
       "   'TW',\n",
       "   'UA',\n",
       "   'US',\n",
       "   'UY',\n",
       "   'VN',\n",
       "   'XK',\n",
       "   'ZA'],\n",
       "  'disc_number': 1,\n",
       "  'duration_ms': 238640,\n",
       "  'episode': False,\n",
       "  'explicit': True,\n",
       "  'external_ids': {'isrc': 'GBAYE9200070'},\n",
       "  'external_urls': {'spotify': 'https://open.spotify.com/track/6b2oQwSGFkzsMtQruIWm2p'},\n",
       "  'href': 'https://api.spotify.com/v1/tracks/6b2oQwSGFkzsMtQruIWm2p',\n",
       "  'id': '6b2oQwSGFkzsMtQruIWm2p',\n",
       "  'is_local': False,\n",
       "  'name': 'Creep',\n",
       "  'popularity': 82,\n",
       "  'preview_url': 'https://p.scdn.co/mp3-preview/e7eb60e9466bc3a27299ea8803aadf4fa9cf795c?cid=901214bb5c8f4d7f8c9f353d0e69d912',\n",
       "  'track': True,\n",
       "  'track_number': 2,\n",
       "  'type': 'track',\n",
       "  'uri': 'spotify:track:6b2oQwSGFkzsMtQruIWm2p'},\n",
       " 'video_thumbnail': {'url': None}}"
      ]
     },
     "execution_count": 97,
     "metadata": {
      "tags": []
     },
     "output_type": "execute_result"
    }
   ],
   "source": [
    "playlist[\"items\"][0]"
   ]
  },
  {
   "cell_type": "code",
   "execution_count": 98,
   "metadata": {
    "colab": {
     "base_uri": "https://localhost:8080/"
    },
    "id": "ydiRLyerLH2h",
    "outputId": "b3f8042e-7c08-4c1b-dec6-dd4eba33d3b7"
   },
   "outputs": [
    {
     "data": {
      "text/plain": [
       "dict_keys(['album', 'artists', 'available_markets', 'disc_number', 'duration_ms', 'episode', 'explicit', 'external_ids', 'external_urls', 'href', 'id', 'is_local', 'name', 'popularity', 'preview_url', 'track', 'track_number', 'type', 'uri'])"
      ]
     },
     "execution_count": 98,
     "metadata": {
      "tags": []
     },
     "output_type": "execute_result"
    }
   ],
   "source": [
    "playlist[\"items\"][0][\"track\"].keys()"
   ]
  },
  {
   "cell_type": "markdown",
   "metadata": {
    "id": "ofpszWHRpGFk",
    "nbgrader": {
     "cell_type": "markdown",
     "checksum": "88efc5fd16fe23bb62b1fece1bb92c15",
     "grade": false,
     "grade_id": "cell-26a01f9f6110e52e",
     "locked": true,
     "schema_version": 3,
     "solution": false,
     "task": false
    }
   },
   "source": [
    "<div class=\"alert alert-info\"><b>Task </b>Write the code to extract data about all the tracks included in your chosen playlist and save them into a pandas DataFrame object under the name <i>df</i>. The DataFrame should include the <i>album</i>, <i>artists</i>, <i>disc_number</i>, <i>duration_ms</i>, <i>explicit</i>, <i>name</i>, <i>popularity</i>, <i>release_date</i>, <i>track_number</i>, <i>uri</i>, <i>danceability</i>, <i>energy</i>, <i>key</i>, <i>loudness</i>, <i>mode</i>, <i>speechness</i>, <i>acousticness</i>, <i>instrulmentallness</i>, <i>liveness</i>, <i>valence</i> and <i>tempo</i> of every song. Use these same names as column names. In addition, your DataFrame should also include the total number of <i>followers</i>, the first listed <i>genre</i> and the <i>popularity</i> for the artists of each of the tracks. Store these data in columns called 'followers', 'genres' and 'artist_popularity'. The columns of your DataFrame should be ordered alphabetically. Use default index values.</div>"
   ]
  },
  {
   "cell_type": "code",
   "execution_count": 101,
   "metadata": {
    "id": "z6580qtD9yNl"
   },
   "outputs": [],
   "source": [
    "name=[]\n",
    "album=[]\n",
    "popularity=[]\n",
    "artists=[]\n",
    "disc_number=[]\n",
    "duration_ms=[]\n",
    "explicit=[]\n",
    "track_number=[]\n",
    "uri=[]\n",
    "release_date=[]\n",
    "for i in playlist[\"items\"]:\n",
    "    release_date.append(i[\"track\"][\"album\"][\"release_date\"])\n",
    "    uri.append(i[\"track\"][\"uri\"])\n",
    "    track_number.append(i[\"track\"][\"track_number\"])\n",
    "    explicit.append(i[\"track\"][\"explicit\"])\n",
    "    duration_ms.append(i[\"track\"][\"duration_ms\"])\n",
    "    disc_number.append(i[\"track\"][\"disc_number\"])\n",
    "    artists.append(i[\"track\"][\"artists\"][0][\"name\"])\n",
    "    popularity.append(i[\"track\"][\"popularity\"])\n",
    "    album.append(i[\"track\"][\"album\"][\"name\"])\n",
    "    name.append(i[\"track\"][\"name\"])"
   ]
  },
  {
   "cell_type": "markdown",
   "metadata": {
    "id": "fBRxEIM3TxMV"
   },
   "source": [
    "**Retrieving the information for the artists**"
   ]
  },
  {
   "cell_type": "code",
   "execution_count": 102,
   "metadata": {
    "id": "UgMlLTR2hcY9"
   },
   "outputs": [],
   "source": [
    "# ex: playlist[\"items\"][0][\"track\"][\"artists\"][0][\"id\"]\n",
    "id_artist=[]\n",
    "for i in playlist[\"items\"]:\n",
    "    id_artist.append(i[\"track\"][\"artists\"][0][\"id\"]) #obtaining the id of each one of the artists"
   ]
  },
  {
   "cell_type": "code",
   "execution_count": 103,
   "metadata": {
    "colab": {
     "base_uri": "https://localhost:8080/"
    },
    "id": "kD-SVnT2gez2",
    "outputId": "5719a449-f168-4c54-b4fd-382b769b8be4"
   },
   "outputs": [
    {
     "name": "stdout",
     "output_type": "stream",
     "text": [
      "{'artists': [{'external_urls': {'spotify': 'https://open.spotify.com/artist/4Z8W4fKeB5YxbusRsdQVPb'}, 'followers': {'href': None, 'total': 5599419}, 'genres': ['alternative rock', 'art rock', 'melancholia', 'oxford indie', 'permanent wave', 'rock'], 'href': 'https://api.spotify.com/v1/artists/4Z8W4fKeB5YxbusRsdQVPb', 'id': '4Z8W4fKeB5YxbusRsdQVPb', 'images': [{'height': 640, 'url': 'https://i.scdn.co/image/afcd616e1ef2d2786f47b3b4a8a6aeea24a72adc', 'width': 640}, {'height': 320, 'url': 'https://i.scdn.co/image/563754af10b3d9f9f62a3458e699f58c4a02870f', 'width': 320}, {'height': 160, 'url': 'https://i.scdn.co/image/4067ea225d8b42fa6951857d3af27dd07d60f3c6', 'width': 160}], 'name': 'Radiohead', 'popularity': 82, 'type': 'artist', 'uri': 'spotify:artist:4Z8W4fKeB5YxbusRsdQVPb'}]}\n",
      "dict_keys(['external_urls', 'followers', 'genres', 'href', 'id', 'images', 'name', 'popularity', 'type', 'uri'])\n",
      "5599419\n",
      "alternative rock\n",
      "82\n"
     ]
    }
   ],
   "source": [
    "url_artist=base_url+\"artists/\"\n",
    "artist_id={'ids': id_artist[0]}\n",
    "artist_data=requests.get(url_artist,params=artist_id, headers=headers).json()\n",
    "print(artist_data)\n",
    "print(artist_data[\"artists\"][0].keys())\n",
    "print(artist_data[\"artists\"][0][\"followers\"][\"total\"])\n",
    "print(artist_data[\"artists\"][0][\"genres\"][0])\n",
    "print(artist_data[\"artists\"][0][\"popularity\"])\n",
    "#just to know how to find the right elements"
   ]
  },
  {
   "cell_type": "code",
   "execution_count": 106,
   "metadata": {
    "id": "1eadjETtmzmB"
   },
   "outputs": [],
   "source": [
    "followers=[]\n",
    "genres=[]\n",
    "artist_popularity=[]\n",
    "url_artist=base_url+\"artists/\"\n",
    "for i in id_artist:\n",
    "    art_temp=requests.get(url_artist,params={\"ids\":i}, headers=headers).json()\n",
    "    followers.append(art_temp[\"artists\"][0][\"followers\"][\"total\"])\n",
    "    genres.append(art_temp[\"artists\"][0][\"genres\"][0])\n",
    "    artist_popularity.append(art_temp[\"artists\"][0][\"popularity\"])"
   ]
  },
  {
   "cell_type": "markdown",
   "metadata": {
    "id": "Vo8gYAe9T7F7"
   },
   "source": [
    "**Retrieving the information for each track**"
   ]
  },
  {
   "cell_type": "code",
   "execution_count": 107,
   "metadata": {
    "id": "oxl13M49UPmF"
   },
   "outputs": [],
   "source": [
    "id_song=[]\n",
    "for i in playlist[\"items\"]:\n",
    "    id_song.append(i[\"track\"][\"id\"]) #Obtaining the id of each one of the songs"
   ]
  },
  {
   "cell_type": "code",
   "execution_count": 108,
   "metadata": {
    "colab": {
     "base_uri": "https://localhost:8080/"
    },
    "id": "GtLVELhCU3uV",
    "outputId": "5d144382-d4f9-49ea-bac0-0acc100c6aea"
   },
   "outputs": [
    {
     "data": {
      "text/plain": [
       "{'audio_features': [{'acousticness': 0.0102,\n",
       "   'analysis_url': 'https://api.spotify.com/v1/audio-analysis/6b2oQwSGFkzsMtQruIWm2p',\n",
       "   'danceability': 0.515,\n",
       "   'duration_ms': 238640,\n",
       "   'energy': 0.43,\n",
       "   'id': '6b2oQwSGFkzsMtQruIWm2p',\n",
       "   'instrumentalness': 0.000141,\n",
       "   'key': 7,\n",
       "   'liveness': 0.129,\n",
       "   'loudness': -9.935,\n",
       "   'mode': 1,\n",
       "   'speechiness': 0.0369,\n",
       "   'tempo': 91.841,\n",
       "   'time_signature': 4,\n",
       "   'track_href': 'https://api.spotify.com/v1/tracks/6b2oQwSGFkzsMtQruIWm2p',\n",
       "   'type': 'audio_features',\n",
       "   'uri': 'spotify:track:6b2oQwSGFkzsMtQruIWm2p',\n",
       "   'valence': 0.104}]}"
      ]
     },
     "execution_count": 108,
     "metadata": {
      "tags": []
     },
     "output_type": "execute_result"
    }
   ],
   "source": [
    "#Personal notes\n",
    "url_track=base_url+endpoint\n",
    "trial={'ids': id_song} #It did not work as expected since it only retrived the information of the first song in the list\n",
    "track_data=requests.get(url_track,params=trial, headers=headers).json()\n",
    "track_data"
   ]
  },
  {
   "cell_type": "code",
   "execution_count": 109,
   "metadata": {
    "id": "TDudShZyYS3t"
   },
   "outputs": [],
   "source": [
    "#danceability, energy, key, loudness, mode, speechness, acousticness, instrulmentallness, liveness, valence and tempo of every song. \n",
    "acousticness=[] \n",
    "danceability=[]\n",
    "energy=[]\n",
    "key=[]\n",
    "loudness=[]\n",
    "mode=[]\n",
    "speechiness=[]\n",
    "instrumentalness=[]\n",
    "liveness=[]\n",
    "valence=[]\n",
    "tempo=[]\n",
    "url_track=base_url+endpoint\n",
    "for i in id_song:\n",
    "    track_temp=requests.get(url_track,params={'ids': i}, headers=headers).json()\n",
    "    acousticness.append(track_temp[\"audio_features\"][0][\"acousticness\"])\n",
    "    danceability.append(track_temp[\"audio_features\"][0][\"danceability\"])\n",
    "    energy.append(track_temp[\"audio_features\"][0][\"energy\"])\n",
    "    key.append(track_temp[\"audio_features\"][0][\"key\"])\n",
    "    loudness.append(track_temp[\"audio_features\"][0][\"loudness\"])\n",
    "    mode.append(track_temp[\"audio_features\"][0][\"mode\"])\n",
    "    speechiness.append(track_temp[\"audio_features\"][0][\"speechiness\"])\n",
    "    instrumentalness.append(track_temp[\"audio_features\"][0][\"instrumentalness\"])\n",
    "    liveness.append(track_temp[\"audio_features\"][0][\"liveness\"])\n",
    "    valence.append(track_temp[\"audio_features\"][0][\"valence\"])\n",
    "    tempo.append(track_temp[\"audio_features\"][0][\"tempo\"])"
   ]
  },
  {
   "cell_type": "markdown",
   "metadata": {
    "id": "uh_UxuBirD0f"
   },
   "source": [
    "**Creating the table**"
   ]
  },
  {
   "cell_type": "code",
   "execution_count": 110,
   "metadata": {
    "id": "ZTg_1J5ZrGrJ"
   },
   "outputs": [],
   "source": [
    "import pandas as pd"
   ]
  },
  {
   "cell_type": "code",
   "execution_count": 111,
   "metadata": {
    "colab": {
     "base_uri": "https://localhost:8080/",
     "height": 674
    },
    "id": "m_89PgW3rIRU",
    "outputId": "4b86348c-9057-47eb-e529-91b5fc8bfd2d"
   },
   "outputs": [
    {
     "data": {
      "text/html": [
       "<div>\n",
       "<style scoped>\n",
       "    .dataframe tbody tr th:only-of-type {\n",
       "        vertical-align: middle;\n",
       "    }\n",
       "\n",
       "    .dataframe tbody tr th {\n",
       "        vertical-align: top;\n",
       "    }\n",
       "\n",
       "    .dataframe thead th {\n",
       "        text-align: right;\n",
       "    }\n",
       "</style>\n",
       "<table border=\"1\" class=\"dataframe\">\n",
       "  <thead>\n",
       "    <tr style=\"text-align: right;\">\n",
       "      <th></th>\n",
       "      <th>acousticness</th>\n",
       "      <th>album</th>\n",
       "      <th>artist_popularity</th>\n",
       "      <th>artists</th>\n",
       "      <th>danceability</th>\n",
       "      <th>disc_number</th>\n",
       "      <th>duration_ms</th>\n",
       "      <th>energy</th>\n",
       "      <th>explicit</th>\n",
       "      <th>followers</th>\n",
       "      <th>genres</th>\n",
       "      <th>instrumentalness</th>\n",
       "      <th>key</th>\n",
       "      <th>liveness</th>\n",
       "      <th>loudness</th>\n",
       "      <th>mode</th>\n",
       "      <th>name</th>\n",
       "      <th>popularity</th>\n",
       "      <th>release_date</th>\n",
       "      <th>speechiness</th>\n",
       "      <th>tempo</th>\n",
       "      <th>track_number</th>\n",
       "      <th>uri</th>\n",
       "      <th>valence</th>\n",
       "    </tr>\n",
       "  </thead>\n",
       "  <tbody>\n",
       "    <tr>\n",
       "      <th>0</th>\n",
       "      <td>0.010200</td>\n",
       "      <td>Pablo Honey</td>\n",
       "      <td>82</td>\n",
       "      <td>Radiohead</td>\n",
       "      <td>0.515</td>\n",
       "      <td>1</td>\n",
       "      <td>238640</td>\n",
       "      <td>0.430</td>\n",
       "      <td>True</td>\n",
       "      <td>5599419</td>\n",
       "      <td>alternative rock</td>\n",
       "      <td>0.000141</td>\n",
       "      <td>7</td>\n",
       "      <td>0.1290</td>\n",
       "      <td>-9.935</td>\n",
       "      <td>1</td>\n",
       "      <td>Creep</td>\n",
       "      <td>82</td>\n",
       "      <td>1993-02-22</td>\n",
       "      <td>0.0369</td>\n",
       "      <td>91.841</td>\n",
       "      <td>2</td>\n",
       "      <td>spotify:track:6b2oQwSGFkzsMtQruIWm2p</td>\n",
       "      <td>0.104</td>\n",
       "    </tr>\n",
       "    <tr>\n",
       "      <th>1</th>\n",
       "      <td>0.046900</td>\n",
       "      <td>The Eraser</td>\n",
       "      <td>64</td>\n",
       "      <td>Thom Yorke</td>\n",
       "      <td>0.613</td>\n",
       "      <td>1</td>\n",
       "      <td>289826</td>\n",
       "      <td>0.791</td>\n",
       "      <td>True</td>\n",
       "      <td>628104</td>\n",
       "      <td>art pop</td>\n",
       "      <td>0.708000</td>\n",
       "      <td>0</td>\n",
       "      <td>0.1280</td>\n",
       "      <td>-7.293</td>\n",
       "      <td>1</td>\n",
       "      <td>Black Swan</td>\n",
       "      <td>57</td>\n",
       "      <td>2006-07-10</td>\n",
       "      <td>0.0336</td>\n",
       "      <td>101.066</td>\n",
       "      <td>4</td>\n",
       "      <td>spotify:track:4VbV8Zyjuu1qz0QteX1wVC</td>\n",
       "      <td>0.509</td>\n",
       "    </tr>\n",
       "    <tr>\n",
       "      <th>2</th>\n",
       "      <td>0.327000</td>\n",
       "      <td>New Energy</td>\n",
       "      <td>66</td>\n",
       "      <td>Four Tet</td>\n",
       "      <td>0.551</td>\n",
       "      <td>1</td>\n",
       "      <td>252255</td>\n",
       "      <td>0.469</td>\n",
       "      <td>False</td>\n",
       "      <td>478960</td>\n",
       "      <td>alternative dance</td>\n",
       "      <td>0.161000</td>\n",
       "      <td>2</td>\n",
       "      <td>0.0939</td>\n",
       "      <td>-8.393</td>\n",
       "      <td>1</td>\n",
       "      <td>Two Thousand and Seventeen</td>\n",
       "      <td>63</td>\n",
       "      <td>2017-09-29</td>\n",
       "      <td>0.0296</td>\n",
       "      <td>75.495</td>\n",
       "      <td>2</td>\n",
       "      <td>spotify:track:2ZIaH69kaz55RM4Pjx6KXl</td>\n",
       "      <td>0.498</td>\n",
       "    </tr>\n",
       "    <tr>\n",
       "      <th>3</th>\n",
       "      <td>0.071800</td>\n",
       "      <td>The Bends</td>\n",
       "      <td>82</td>\n",
       "      <td>Radiohead</td>\n",
       "      <td>0.418</td>\n",
       "      <td>1</td>\n",
       "      <td>257480</td>\n",
       "      <td>0.383</td>\n",
       "      <td>False</td>\n",
       "      <td>5599419</td>\n",
       "      <td>alternative rock</td>\n",
       "      <td>0.017700</td>\n",
       "      <td>4</td>\n",
       "      <td>0.0896</td>\n",
       "      <td>-11.782</td>\n",
       "      <td>1</td>\n",
       "      <td>High And Dry</td>\n",
       "      <td>73</td>\n",
       "      <td>1995-03-28</td>\n",
       "      <td>0.0257</td>\n",
       "      <td>87.773</td>\n",
       "      <td>3</td>\n",
       "      <td>spotify:track:5jafMI8FLibnjkYTZ33m0c</td>\n",
       "      <td>0.352</td>\n",
       "    </tr>\n",
       "    <tr>\n",
       "      <th>4</th>\n",
       "      <td>0.062600</td>\n",
       "      <td>OK Computer</td>\n",
       "      <td>82</td>\n",
       "      <td>Radiohead</td>\n",
       "      <td>0.360</td>\n",
       "      <td>1</td>\n",
       "      <td>264066</td>\n",
       "      <td>0.505</td>\n",
       "      <td>False</td>\n",
       "      <td>5599419</td>\n",
       "      <td>alternative rock</td>\n",
       "      <td>0.000092</td>\n",
       "      <td>7</td>\n",
       "      <td>0.1720</td>\n",
       "      <td>-9.129</td>\n",
       "      <td>1</td>\n",
       "      <td>Karma Police</td>\n",
       "      <td>74</td>\n",
       "      <td>1997-05-28</td>\n",
       "      <td>0.0260</td>\n",
       "      <td>74.807</td>\n",
       "      <td>6</td>\n",
       "      <td>spotify:track:3SVAN3BRByDmHOhKyIDxfC</td>\n",
       "      <td>0.317</td>\n",
       "    </tr>\n",
       "    <tr>\n",
       "      <th>...</th>\n",
       "      <td>...</td>\n",
       "      <td>...</td>\n",
       "      <td>...</td>\n",
       "      <td>...</td>\n",
       "      <td>...</td>\n",
       "      <td>...</td>\n",
       "      <td>...</td>\n",
       "      <td>...</td>\n",
       "      <td>...</td>\n",
       "      <td>...</td>\n",
       "      <td>...</td>\n",
       "      <td>...</td>\n",
       "      <td>...</td>\n",
       "      <td>...</td>\n",
       "      <td>...</td>\n",
       "      <td>...</td>\n",
       "      <td>...</td>\n",
       "      <td>...</td>\n",
       "      <td>...</td>\n",
       "      <td>...</td>\n",
       "      <td>...</td>\n",
       "      <td>...</td>\n",
       "      <td>...</td>\n",
       "      <td>...</td>\n",
       "    </tr>\n",
       "    <tr>\n",
       "      <th>95</th>\n",
       "      <td>0.792000</td>\n",
       "      <td>Conor Oberst</td>\n",
       "      <td>57</td>\n",
       "      <td>Conor Oberst</td>\n",
       "      <td>0.631</td>\n",
       "      <td>1</td>\n",
       "      <td>244173</td>\n",
       "      <td>0.566</td>\n",
       "      <td>False</td>\n",
       "      <td>129888</td>\n",
       "      <td>indie folk</td>\n",
       "      <td>0.000023</td>\n",
       "      <td>9</td>\n",
       "      <td>0.1080</td>\n",
       "      <td>-10.194</td>\n",
       "      <td>1</td>\n",
       "      <td>Cape Canaveral</td>\n",
       "      <td>25</td>\n",
       "      <td>2008-01-01</td>\n",
       "      <td>0.0473</td>\n",
       "      <td>126.166</td>\n",
       "      <td>1</td>\n",
       "      <td>spotify:track:5RlSc9SkmmV1Ma4Hd7TQYZ</td>\n",
       "      <td>0.631</td>\n",
       "    </tr>\n",
       "    <tr>\n",
       "      <th>96</th>\n",
       "      <td>0.808000</td>\n",
       "      <td>Around The Well</td>\n",
       "      <td>71</td>\n",
       "      <td>Iron &amp; Wine</td>\n",
       "      <td>0.610</td>\n",
       "      <td>1</td>\n",
       "      <td>251280</td>\n",
       "      <td>0.275</td>\n",
       "      <td>False</td>\n",
       "      <td>915127</td>\n",
       "      <td>acoustic pop</td>\n",
       "      <td>0.913000</td>\n",
       "      <td>6</td>\n",
       "      <td>0.4030</td>\n",
       "      <td>-10.644</td>\n",
       "      <td>1</td>\n",
       "      <td>Such Great Heights</td>\n",
       "      <td>0</td>\n",
       "      <td>2009-05-19</td>\n",
       "      <td>0.0280</td>\n",
       "      <td>94.088</td>\n",
       "      <td>11</td>\n",
       "      <td>spotify:track:7vcuTZAFyu0Z5dgMRLR0h0</td>\n",
       "      <td>0.552</td>\n",
       "    </tr>\n",
       "    <tr>\n",
       "      <th>97</th>\n",
       "      <td>0.000226</td>\n",
       "      <td>Places</td>\n",
       "      <td>49</td>\n",
       "      <td>Lou Doillon</td>\n",
       "      <td>0.610</td>\n",
       "      <td>1</td>\n",
       "      <td>244280</td>\n",
       "      <td>0.645</td>\n",
       "      <td>False</td>\n",
       "      <td>59347</td>\n",
       "      <td>french indie pop</td>\n",
       "      <td>0.000068</td>\n",
       "      <td>7</td>\n",
       "      <td>0.1100</td>\n",
       "      <td>-8.321</td>\n",
       "      <td>0</td>\n",
       "      <td>Devil Or Angel</td>\n",
       "      <td>37</td>\n",
       "      <td>2012-01-01</td>\n",
       "      <td>0.0280</td>\n",
       "      <td>95.891</td>\n",
       "      <td>2</td>\n",
       "      <td>spotify:track:2B0vzJSvp2Y0Bx8HUN4jyT</td>\n",
       "      <td>0.284</td>\n",
       "    </tr>\n",
       "    <tr>\n",
       "      <th>98</th>\n",
       "      <td>0.367000</td>\n",
       "      <td>Moondance</td>\n",
       "      <td>78</td>\n",
       "      <td>Van Morrison</td>\n",
       "      <td>0.608</td>\n",
       "      <td>1</td>\n",
       "      <td>205613</td>\n",
       "      <td>0.524</td>\n",
       "      <td>False</td>\n",
       "      <td>1835548</td>\n",
       "      <td>classic rock</td>\n",
       "      <td>0.002540</td>\n",
       "      <td>8</td>\n",
       "      <td>0.1150</td>\n",
       "      <td>-10.266</td>\n",
       "      <td>1</td>\n",
       "      <td>Into the Mystic - 2013 Remaster</td>\n",
       "      <td>74</td>\n",
       "      <td>1970-02</td>\n",
       "      <td>0.0309</td>\n",
       "      <td>86.204</td>\n",
       "      <td>5</td>\n",
       "      <td>spotify:track:3lh3iiiJeiBXHSZw6u0kh6</td>\n",
       "      <td>0.797</td>\n",
       "    </tr>\n",
       "    <tr>\n",
       "      <th>99</th>\n",
       "      <td>0.210000</td>\n",
       "      <td>Caught In The Trees</td>\n",
       "      <td>58</td>\n",
       "      <td>Damien Jurado</td>\n",
       "      <td>0.723</td>\n",
       "      <td>1</td>\n",
       "      <td>256173</td>\n",
       "      <td>0.347</td>\n",
       "      <td>False</td>\n",
       "      <td>140219</td>\n",
       "      <td>alternative country</td>\n",
       "      <td>0.012200</td>\n",
       "      <td>6</td>\n",
       "      <td>0.1240</td>\n",
       "      <td>-9.694</td>\n",
       "      <td>1</td>\n",
       "      <td>Sheets</td>\n",
       "      <td>49</td>\n",
       "      <td>2008-09-09</td>\n",
       "      <td>0.0283</td>\n",
       "      <td>109.972</td>\n",
       "      <td>10</td>\n",
       "      <td>spotify:track:5V4NlIfbLfR5c8U9330HY8</td>\n",
       "      <td>0.166</td>\n",
       "    </tr>\n",
       "  </tbody>\n",
       "</table>\n",
       "<p>100 rows × 24 columns</p>\n",
       "</div>"
      ],
      "text/plain": [
       "    acousticness  ... valence\n",
       "0       0.010200  ...   0.104\n",
       "1       0.046900  ...   0.509\n",
       "2       0.327000  ...   0.498\n",
       "3       0.071800  ...   0.352\n",
       "4       0.062600  ...   0.317\n",
       "..           ...  ...     ...\n",
       "95      0.792000  ...   0.631\n",
       "96      0.808000  ...   0.552\n",
       "97      0.000226  ...   0.284\n",
       "98      0.367000  ...   0.797\n",
       "99      0.210000  ...   0.166\n",
       "\n",
       "[100 rows x 24 columns]"
      ]
     },
     "execution_count": 111,
     "metadata": {
      "tags": []
     },
     "output_type": "execute_result"
    }
   ],
   "source": [
    "df = pd.DataFrame(data={\"acousticness\":acousticness,\n",
    "                        \"danceability\":danceability,\n",
    "                        \"energy\":energy,\n",
    "                        \"key\":key,\n",
    "                        \"loudness\":loudness,\n",
    "                        \"mode\":mode,\n",
    "                        \"speechiness\":speechiness,\n",
    "                        \"instrumentalness\":instrumentalness,\n",
    "                        \"liveness\":liveness,\n",
    "                        \"valence\":valence,\n",
    "                        \"tempo\":tempo,\n",
    "                        \"followers\":followers,\n",
    "                        \"genres\":genres,\n",
    "                        \"artist_popularity\":artist_popularity,\n",
    "                        \"album\":album,\n",
    "                        \"artists\":artists,\n",
    "                        \"disc_number\":disc_number,\n",
    "                        \"duration_ms\": duration_ms,\n",
    "                        \"explicit\": explicit,\n",
    "                        \"popularity\":popularity,\n",
    "                        \"release_date\":release_date,\n",
    "                        \"track_number\":track_number,\n",
    "                        \"uri\":uri,\n",
    "                        \"name\":name\n",
    "                        })\n",
    "df=df[sorted(df.columns)]\n",
    "df"
   ]
  },
  {
   "cell_type": "markdown",
   "metadata": {
    "id": "4yeX13eOpGGM",
    "nbgrader": {
     "cell_type": "markdown",
     "checksum": "cbd02dd3514d8ef680333e5623351209",
     "grade": false,
     "grade_id": "cell-708e9c18fe4ff0cd",
     "locked": true,
     "schema_version": 3,
     "solution": false,
     "task": false
    }
   },
   "source": [
    "## Saving the data\n"
   ]
  },
  {
   "cell_type": "code",
   "execution_count": 112,
   "metadata": {
    "id": "ivNFq7xtpGGN"
   },
   "outputs": [],
   "source": [
    "df.to_csv('spotify.csv', sep=',')"
   ]
  }
 ],
 "metadata": {
  "celltoolbar": "Edit Metadata",
  "colab": {
   "name": "CloudComputing2020_A1.ipynb",
   "provenance": []
  },
  "kernelspec": {
   "display_name": "Python 3",
   "language": "python",
   "name": "python3"
  },
  "language_info": {
   "codemirror_mode": {
    "name": "ipython",
    "version": 3
   },
   "file_extension": ".py",
   "mimetype": "text/x-python",
   "name": "python",
   "nbconvert_exporter": "python",
   "pygments_lexer": "ipython3",
   "version": "3.8.10"
  }
 },
 "nbformat": 4,
 "nbformat_minor": 1
}
